{
 "cells": [
  {
   "cell_type": "code",
   "execution_count": 1,
   "id": "ddfb4d5e",
   "metadata": {
    "_cell_guid": "b1076dfc-b9ad-4769-8c92-a6c4dae69d19",
    "_uuid": "8f2839f25d086af736a60e9eeb907d3b93b6e0e5",
    "execution": {
     "iopub.execute_input": "2023-04-13T17:36:56.936437Z",
     "iopub.status.busy": "2023-04-13T17:36:56.935307Z",
     "iopub.status.idle": "2023-04-13T17:36:58.586286Z",
     "shell.execute_reply": "2023-04-13T17:36:58.584887Z"
    },
    "papermill": {
     "duration": 1.660006,
     "end_time": "2023-04-13T17:36:58.589303",
     "exception": false,
     "start_time": "2023-04-13T17:36:56.929297",
     "status": "completed"
    },
    "tags": []
   },
   "outputs": [],
   "source": [
    "# This Python 3 environment comes with many helpful analytics libraries installed\n",
    "# It is defined by the kaggle/python Docker image: https://github.com/kaggle/docker-python\n",
    "# For example, here's several helpful packages to load\n",
    "\n",
    "import numpy as np # linear algebra\n",
    "import pandas as pd # data processing, CSV file I/O (e.g. pd.read_csv)\n",
    "import seaborn as sns\n",
    "from sklearn.cluster import KMeans\n",
    "\n",
    "# Input data files are available in the read-only \"../input/\" directory\n",
    "# For example, running this (by clicking run or pressing Shift+Enter) will list all files under the input directory\n",
    "\n",
    "# import os\n",
    "# for dirname, _, filenames in os.walk('/kaggle/input'):\n",
    "#     for filename in filenames:\n",
    "#         print(os.path.join(dirname, filename))\n",
    "\n",
    "data = pd.read_csv(\"/kaggle/input/letterrecognition-using-svm/letter-recognition.csv\")\n",
    "all_data = data\n",
    "data = data[[\"width \", \"height\"]].to_numpy()\n",
    "# You can write up to 20GB to the current directory (/kaggle/working/) that gets preserved as output when you create a version using \"Save & Run All\" \n",
    "# You can also write temporary files to /kaggle/temp/, but they won't be saved outside of the current session"
   ]
  },
  {
   "cell_type": "code",
   "execution_count": 2,
   "id": "379f9cc6",
   "metadata": {
    "execution": {
     "iopub.execute_input": "2023-04-13T17:36:58.596630Z",
     "iopub.status.busy": "2023-04-13T17:36:58.596143Z",
     "iopub.status.idle": "2023-04-13T17:37:09.273903Z",
     "shell.execute_reply": "2023-04-13T17:37:09.272530Z"
    },
    "papermill": {
     "duration": 10.684427,
     "end_time": "2023-04-13T17:37:09.276727",
     "exception": false,
     "start_time": "2023-04-13T17:36:58.592300",
     "status": "completed"
    },
    "tags": []
   },
   "outputs": [],
   "source": [
    "min_clusters = 1\n",
    "max_clusters = 10\n",
    "interval = 1\n",
    "\n",
    "models = {}\n",
    "inertia_values = []\n",
    "\n",
    "for i in range(min_clusters, max_clusters, interval):\n",
    "    model = KMeans(i)\n",
    "    model.fit(np.reshape(data, (data.shape[0], -1)))\n",
    "    models[i] = model\n",
    "    inertia_values.append(model.inertia_)"
   ]
  },
  {
   "cell_type": "code",
   "execution_count": 3,
   "id": "79ef8933",
   "metadata": {
    "execution": {
     "iopub.execute_input": "2023-04-13T17:37:09.284727Z",
     "iopub.status.busy": "2023-04-13T17:37:09.284087Z",
     "iopub.status.idle": "2023-04-13T17:37:09.592575Z",
     "shell.execute_reply": "2023-04-13T17:37:09.591368Z"
    },
    "papermill": {
     "duration": 0.315647,
     "end_time": "2023-04-13T17:37:09.595541",
     "exception": false,
     "start_time": "2023-04-13T17:37:09.279894",
     "status": "completed"
    },
    "tags": []
   },
   "outputs": [
    {
     "data": {
      "text/plain": [
       "<AxesSubplot:>"
      ]
     },
     "execution_count": 3,
     "metadata": {},
     "output_type": "execute_result"
    },
    {
     "data": {
      "image/png": "[encoded data removed]",
      "text/plain": [
       "<Figure size 640x480 with 1 Axes>"
      ]
     },
     "metadata": {},
     "output_type": "display_data"
    }
   ],
   "source": [
    "sns.lineplot(x=[i for i in range(min_clusters, max_clusters, interval)],\n",
    "             y=inertia_values, marker=\"o\", markers=True)"
   ]
  },
  {
   "cell_type": "code",
   "execution_count": 4,
   "id": "b0fdc664",
   "metadata": {
    "execution": {
     "iopub.execute_input": "2023-04-13T17:37:09.603771Z",
     "iopub.status.busy": "2023-04-13T17:37:09.603348Z",
     "iopub.status.idle": "2023-04-13T17:37:09.610739Z",
     "shell.execute_reply": "2023-04-13T17:37:09.609522Z"
    },
    "papermill": {
     "duration": 0.014722,
     "end_time": "2023-04-13T17:37:09.613561",
     "exception": false,
     "start_time": "2023-04-13T17:37:09.598839",
     "status": "completed"
    },
    "tags": []
   },
   "outputs": [
    {
     "name": "stdout",
     "output_type": "stream",
     "text": [
      "[7.13553618 7.60501759]\n",
      "[4.81358885 5.2652439 ]\n",
      "[2.70717457 2.19186726]\n"
     ]
    }
   ],
   "source": [
    "cluster_count = 3\n",
    "model = models[cluster_count]\n",
    "centroids = model.cluster_centers_\n",
    "\n",
    "for centroid in centroids:\n",
    "    print(centroid)"
   ]
  },
  {
   "cell_type": "code",
   "execution_count": 5,
   "id": "2fb1ea65",
   "metadata": {
    "execution": {
     "iopub.execute_input": "2023-04-13T17:37:09.621898Z",
     "iopub.status.busy": "2023-04-13T17:37:09.621493Z",
     "iopub.status.idle": "2023-04-13T17:37:09.643836Z",
     "shell.execute_reply": "2023-04-13T17:37:09.642714Z"
    },
    "papermill": {
     "duration": 0.029579,
     "end_time": "2023-04-13T17:37:09.646417",
     "exception": false,
     "start_time": "2023-04-13T17:37:09.616838",
     "status": "completed"
    },
    "tags": []
   },
   "outputs": [
    {
     "name": "stdout",
     "output_type": "stream",
     "text": [
      "1-st cluster has 6537 members\n",
      "2-nd cluster has 9184 members\n",
      "3-rd cluster has 4279 members\n"
     ]
    }
   ],
   "source": [
    "predictions = model.predict(data)\n",
    "values, counts = np.unique(predictions, return_counts=True)\n",
    "\n",
    "def number_postfix(number):\n",
    "    if number == 1:\n",
    "        return \"st\"\n",
    "    \n",
    "    elif number == 2:\n",
    "        return \"nd\"\n",
    "    \n",
    "    elif number == 3:\n",
    "        return \"rd\"\n",
    "    \n",
    "    return \"th\"\n",
    "\n",
    "for index, i in enumerate(counts):\n",
    "    print(f\"{index + 1}-{number_postfix(index + 1)} cluster has {i} members\")"
   ]
  },
  {
   "cell_type": "code",
   "execution_count": 6,
   "id": "fb80ec46",
   "metadata": {
    "execution": {
     "iopub.execute_input": "2023-04-13T17:37:09.656658Z",
     "iopub.status.busy": "2023-04-13T17:37:09.655457Z",
     "iopub.status.idle": "2023-04-13T17:37:09.676067Z",
     "shell.execute_reply": "2023-04-13T17:37:09.674666Z"
    },
    "papermill": {
     "duration": 0.029812,
     "end_time": "2023-04-13T17:37:09.680121",
     "exception": false,
     "start_time": "2023-04-13T17:37:09.650309",
     "status": "completed"
    },
    "tags": []
   },
   "outputs": [
    {
     "name": "stdout",
     "output_type": "stream",
     "text": [
      "[('A', 230),\n",
      " ('B', 236),\n",
      " ('C', 201),\n",
      " ('D', 247),\n",
      " ('E', 190),\n",
      " ('F', 220),\n",
      " ('G', 238),\n",
      " ('H', 263),\n",
      " ('I', 107),\n",
      " ('J', 178),\n",
      " ('K', 312),\n",
      " ('L', 182),\n",
      " ('M', 372),\n",
      " ('N', 315),\n",
      " ('O', 239),\n",
      " ('P', 298),\n",
      " ('Q', 344),\n",
      " ('R', 236),\n",
      " ('S', 229),\n",
      " ('T', 219),\n",
      " ('U', 260),\n",
      " ('V', 258),\n",
      " ('W', 348),\n",
      " ('X', 287),\n",
      " ('Y', 292),\n",
      " ('Z', 236)]\n",
      "[('A', 400),\n",
      " ('B', 355),\n",
      " ('C', 358),\n",
      " ('D', 388),\n",
      " ('E', 395),\n",
      " ('F', 374),\n",
      " ('G', 364),\n",
      " ('H', 331),\n",
      " ('I', 329),\n",
      " ('J', 368),\n",
      " ('K', 306),\n",
      " ('L', 383),\n",
      " ('M', 294),\n",
      " ('N', 325),\n",
      " ('O', 338),\n",
      " ('P', 327),\n",
      " ('Q', 299),\n",
      " ('R', 363),\n",
      " ('S', 375),\n",
      " ('T', 386),\n",
      " ('U', 396),\n",
      " ('V', 382),\n",
      " ('W', 296),\n",
      " ('X', 360),\n",
      " ('Y', 357),\n",
      " ('Z', 335)]\n",
      "[('A', 159),\n",
      " ('B', 175),\n",
      " ('C', 177),\n",
      " ('D', 170),\n",
      " ('E', 183),\n",
      " ('F', 181),\n",
      " ('G', 171),\n",
      " ('H', 140),\n",
      " ('I', 319),\n",
      " ('J', 201),\n",
      " ('K', 121),\n",
      " ('L', 196),\n",
      " ('M', 126),\n",
      " ('N', 143),\n",
      " ('O', 176),\n",
      " ('P', 178),\n",
      " ('Q', 140),\n",
      " ('R', 159),\n",
      " ('S', 144),\n",
      " ('T', 191),\n",
      " ('U', 157),\n",
      " ('V', 124),\n",
      " ('W', 108),\n",
      " ('X', 140),\n",
      " ('Y', 137),\n",
      " ('Z', 163)]\n"
     ]
    }
   ],
   "source": [
    "from pprint import pprint\n",
    "for i in range(cluster_count):\n",
    "    letters, counts = np.unique(all_data[\"letter\"][predictions == i], return_counts=True)\n",
    "    pprint(list(zip(letters, counts)))"
   ]
  }
 ],
 "metadata": {
  "kernelspec": {
   "display_name": "Python 3",
   "language": "python",
   "name": "python3"
  },
  "language_info": {
   "codemirror_mode": {
    "name": "ipython",
    "version": 3
   },
   "file_extension": ".py",
   "mimetype": "text/x-python",
   "name": "python",
   "nbconvert_exporter": "python",
   "pygments_lexer": "ipython3",
   "version": "3.7.12"
  },
  "papermill": {
   "default_parameters": {},
   "duration": 23.631269,
   "end_time": "2023-04-13T17:37:10.506945",
   "environment_variables": {},
   "exception": null,
   "input_path": "__notebook__.ipynb",
   "output_path": "__notebook__.ipynb",
   "parameters": {},
   "start_time": "2023-04-13T17:36:46.875676",
   "version": "2.4.0"
  }
 },
 "nbformat": 4,
 "nbformat_minor": 5
}
