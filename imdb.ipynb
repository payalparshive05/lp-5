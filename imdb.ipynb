{
  "nbformat": 4,
  "nbformat_minor": 0,
  "metadata": {
    "colab": {
      "name": "imdb.ipynb",
      "provenance": [],
      "include_colab_link": true
    },
    "kernelspec": {
      "name": "python3",
      "display_name": "Python 3"
    }
  },
  "cells": [
    {
      "cell_type": "markdown",
      "metadata": {
        "id": "view-in-github",
        "colab_type": "text"
      },
      "source": [
        "<a href=\"https://colab.research.google.com/github/akanksha-112/code/blob/main/imdb.ipynb\" target=\"_parent\"><img src=\"https://colab.research.google.com/assets/colab-badge.svg\" alt=\"Open In Colab\"/></a>"
      ]
    },
    {
      "cell_type": "markdown",
      "source": [
        "# Binary Classificaion of IMDB movies dataset\n"
      ],
      "metadata": {
        "id": "DoDxmY2A9lQ8"
      }
    },
    {
      "cell_type": "markdown",
      "source": [
        "Loading the data"
      ],
      "metadata": {
        "id": "PXNttw4t-HaH"
      }
    },
    {
      "cell_type": "code",
      "metadata": {
        "id": "AIxphGHVdu6w"
      },
      "source": [
        "from keras.datasets import imdb\n",
        "\n",
        "# Load the data, keeping only 10,000 of the most frequently occuring words\n",
        "(train_data, train_labels), (test_data, test_labels) = imdb.load_data(num_words = 10000)"
      ],
      "execution_count": 1,
      "outputs": []
    },
    {
      "cell_type": "code",
      "metadata": {
        "id": "oem7f6Prdu6_",
        "colab": {
          "base_uri": "https://localhost:8080/"
        },
        "outputId": "a07b06bf-1ca6-4e29-e83d-455a2cd98d8e"
      },
      "source": [
        "# Since we restricted ourselves to the top 10000 frequent words, no word index should exceed 10000\n",
        "# we'll verify this below\n",
        "\n",
        "# Here is a list of maximum indexes in every review --- we search the maximum index in this list of max indexes\n",
        "print(type([max(sequence) for sequence in train_data]))\n",
        "\n",
        "# Find the maximum of all max indexes\n",
        "max([max(sequence) for sequence in train_data])"
      ],
      "execution_count": 2,
      "outputs": [
        {
          "output_type": "stream",
          "name": "stdout",
          "text": [
            "<class 'list'>\n"
          ]
        },
        {
          "output_type": "execute_result",
          "data": {
            "text/plain": [
              "9999"
            ]
          },
          "metadata": {},
          "execution_count": 2
        }
      ]
    },
    {
      "cell_type": "code",
      "source": [
        "# Let's quickly decode a review\n",
        "\n",
        "# step 1: load the dictionary mappings from word to integer index\n",
        "word_index = imdb.get_word_index()\n",
        "\n",
        "# step 2: reverse word index to map integer indexes to their respective words\n",
        "reverse_word_index = dict([(value, key) for (key, value) in word_index.items()])\n",
        "\n",
        "# Step 3: decode the review, mapping integer indices to words\n",
        "#\n",
        "# indices are off by 3 because 0, 1, and 2 are reserverd indices for \"padding\", \"Start of sequence\" and \"unknown\"\n",
        "decoded_review = ' '.join([reverse_word_index.get(i-3, '?') for i in train_data[0]])\n",
        "\n",
        "decoded_review"
      ],
      "metadata": {
        "colab": {
          "base_uri": "https://localhost:8080/",
          "height": 109
        },
        "id": "RziNzdg73G_P",
        "outputId": "2c729b68-4341-46df-9c54-238b8f165737"
      },
      "execution_count": 3,
      "outputs": [
        {
          "output_type": "execute_result",
          "data": {
            "text/plain": [
              "\"? this film was just brilliant casting location scenery story direction everyone's really suited the part they played and you could just imagine being there robert ? is an amazing actor and now the same being director ? father came from the same scottish island as myself so i loved the fact there was a real connection with this film the witty remarks throughout the film were great it was just brilliant so much that i bought the film as soon as it was released for ? and would recommend it to everyone to watch and the fly fishing was amazing really cried at the end it was so sad and you know what they say if you cry at a film it must have been good and this definitely was also ? to the two little boy's that played the ? of norman and paul they were just brilliant children are often left out of the ? list i think because the stars that play them all grown up are such a big profile for the whole film but these children are amazing and should be praised for what they have done don't you think the whole story was so lovely because it was true and was someone's life after all that was shared with us all\""
            ],
            "application/vnd.google.colaboratory.intrinsic+json": {
              "type": "string"
            }
          },
          "metadata": {},
          "execution_count": 3
        }
      ]
    },
    {
      "cell_type": "markdown",
      "source": [
        "Preparing the data"
      ],
      "metadata": {
        "id": "hqKuZEPa99US"
      }
    },
    {
      "cell_type": "markdown",
      "source": [
        "Vectorize input data"
      ],
      "metadata": {
        "id": "EkzCw6-y-Tio"
      }
    },
    {
      "cell_type": "code",
      "source": [
        "import numpy as np\n",
        "\n",
        "def vectorize_sequences(sequences, dimension=10000):\n",
        "    results = np.zeros((len(sequences), dimension))    # Creates an all zero matrix of shape (len(sequences),10K)\n",
        "    for i,sequence in enumerate(sequences):\n",
        "        results[i,sequence] = 1                        # Sets specific indices of results[i] to 1s\n",
        "    return results\n",
        "\n",
        "# Vectorize training Data\n",
        "X_train = vectorize_sequences(train_data)\n",
        "\n",
        "# Vectorize testing Data\n",
        "X_test = vectorize_sequences(test_data)"
      ],
      "metadata": {
        "id": "DBxZ8Rgu3K_x"
      },
      "execution_count": 4,
      "outputs": []
    },
    {
      "cell_type": "code",
      "source": [
        "X_train[0]"
      ],
      "metadata": {
        "colab": {
          "base_uri": "https://localhost:8080/"
        },
        "id": "aNToxa1l3cvY",
        "outputId": "ebaa07b6-38ab-46c6-b5a2-689ecb8d98c1"
      },
      "execution_count": 5,
      "outputs": [
        {
          "output_type": "execute_result",
          "data": {
            "text/plain": [
              "array([0., 1., 1., ..., 0., 0., 0.])"
            ]
          },
          "metadata": {},
          "execution_count": 5
        }
      ]
    },
    {
      "cell_type": "code",
      "source": [
        "X_train.shape"
      ],
      "metadata": {
        "colab": {
          "base_uri": "https://localhost:8080/"
        },
        "id": "6ajxRJEa3gYH",
        "outputId": "d479dea2-2814-4520-9b93-7d32041ab117"
      },
      "execution_count": 6,
      "outputs": [
        {
          "output_type": "execute_result",
          "data": {
            "text/plain": [
              "(25000, 10000)"
            ]
          },
          "metadata": {},
          "execution_count": 6
        }
      ]
    },
    {
      "cell_type": "markdown",
      "source": [
        "Vectorize labels"
      ],
      "metadata": {
        "id": "zQ-GZx5l-aje"
      }
    },
    {
      "cell_type": "code",
      "source": [
        "y_train = np.asarray(train_labels).astype('float32')\n",
        "y_test  = np.asarray(test_labels).astype('float32')"
      ],
      "metadata": {
        "id": "8DD58cav3k4B"
      },
      "execution_count": 7,
      "outputs": []
    },
    {
      "cell_type": "markdown",
      "source": [
        "Model definition"
      ],
      "metadata": {
        "id": "0NXaAgGx4bGC"
      }
    },
    {
      "cell_type": "code",
      "source": [
        "from keras import models\n",
        "from keras import layers\n",
        "\n",
        "model = models.Sequential()\n",
        "model.add(layers.Dense(16, activation='relu', input_shape=(10000,)))\n",
        "model.add(layers.Dense(16, activation='relu'))\n",
        "model.add(layers.Dense(1, activation='sigmoid'))"
      ],
      "metadata": {
        "id": "gqv8tobZ31d-"
      },
      "execution_count": 8,
      "outputs": []
    },
    {
      "cell_type": "markdown",
      "source": [
        "Compiling the model"
      ],
      "metadata": {
        "id": "zdBPhFNe4Wcr"
      }
    },
    {
      "cell_type": "code",
      "source": [
        "from keras import optimizers\n",
        "from keras import losses\n",
        "from keras import metrics\n",
        "\n",
        "model.compile(optimizer=optimizers.RMSprop(lr=0.001),\n",
        "              loss = losses.binary_crossentropy,\n",
        "              metrics = [metrics.binary_accuracy])\n"
      ],
      "metadata": {
        "colab": {
          "base_uri": "https://localhost:8080/"
        },
        "id": "HTwq7vWo3-W2",
        "outputId": "8e8d267b-dbaa-468a-c747-ab6d62cb72b0"
      },
      "execution_count": 9,
      "outputs": [
        {
          "output_type": "stream",
          "name": "stderr",
          "text": [
            "/usr/local/lib/python3.10/dist-packages/keras/optimizers/legacy/rmsprop.py:143: UserWarning: The `lr` argument is deprecated, use `learning_rate` instead.\n",
            "  super().__init__(name, **kwargs)\n"
          ]
        }
      ]
    },
    {
      "cell_type": "markdown",
      "source": [
        "Setting up validation"
      ],
      "metadata": {
        "id": "0mZOMy9_4EKy"
      }
    },
    {
      "cell_type": "code",
      "source": [
        "# Input for Validation\n",
        "X_val = X_train[:10000]\n",
        "partial_X_train = X_train[10000:]\n",
        "\n",
        "# Labels for validation\n",
        "y_val = y_train[:10000]\n",
        "partial_y_train = y_train[10000:]"
      ],
      "metadata": {
        "id": "3Df0Pl_v4H6T"
      },
      "execution_count": 10,
      "outputs": []
    },
    {
      "cell_type": "code",
      "source": [
        "history = model.fit(partial_X_train,\n",
        "                   partial_y_train,\n",
        "                   epochs=20,\n",
        "                   batch_size=512,\n",
        "                   validation_data=(X_val, y_val))"
      ],
      "metadata": {
        "colab": {
          "base_uri": "https://localhost:8080/"
        },
        "id": "sBCBm-em4pPk",
        "outputId": "75fd1225-e0a5-4e1b-b772-0dd5362dc0e7"
      },
      "execution_count": 11,
      "outputs": [
        {
          "output_type": "stream",
          "name": "stdout",
          "text": [
            "Epoch 1/20\n",
            "30/30 [==============================] - 5s 114ms/step - loss: 0.5276 - binary_accuracy: 0.7602 - val_loss: 0.3876 - val_binary_accuracy: 0.8738\n",
            "Epoch 2/20\n",
            "30/30 [==============================] - 2s 56ms/step - loss: 0.3103 - binary_accuracy: 0.9022 - val_loss: 0.3052 - val_binary_accuracy: 0.8888\n",
            "Epoch 3/20\n",
            "30/30 [==============================] - 2s 71ms/step - loss: 0.2256 - binary_accuracy: 0.9273 - val_loss: 0.2829 - val_binary_accuracy: 0.8895\n",
            "Epoch 4/20\n",
            "30/30 [==============================] - 3s 94ms/step - loss: 0.1806 - binary_accuracy: 0.9423 - val_loss: 0.2839 - val_binary_accuracy: 0.8851\n",
            "Epoch 5/20\n",
            "30/30 [==============================] - 3s 91ms/step - loss: 0.1430 - binary_accuracy: 0.9548 - val_loss: 0.2876 - val_binary_accuracy: 0.8865\n",
            "Epoch 6/20\n",
            "30/30 [==============================] - 3s 105ms/step - loss: 0.1173 - binary_accuracy: 0.9641 - val_loss: 0.3215 - val_binary_accuracy: 0.8777\n",
            "Epoch 7/20\n",
            "30/30 [==============================] - 3s 89ms/step - loss: 0.0970 - binary_accuracy: 0.9714 - val_loss: 0.3167 - val_binary_accuracy: 0.8822\n",
            "Epoch 8/20\n",
            "30/30 [==============================] - 2s 60ms/step - loss: 0.0769 - binary_accuracy: 0.9807 - val_loss: 0.3419 - val_binary_accuracy: 0.8786\n",
            "Epoch 9/20\n",
            "30/30 [==============================] - 2s 52ms/step - loss: 0.0635 - binary_accuracy: 0.9831 - val_loss: 0.3800 - val_binary_accuracy: 0.8726\n",
            "Epoch 10/20\n",
            "30/30 [==============================] - 3s 89ms/step - loss: 0.0522 - binary_accuracy: 0.9863 - val_loss: 0.3872 - val_binary_accuracy: 0.8773\n",
            "Epoch 11/20\n",
            "30/30 [==============================] - 2s 76ms/step - loss: 0.0416 - binary_accuracy: 0.9901 - val_loss: 0.4252 - val_binary_accuracy: 0.8748\n",
            "Epoch 12/20\n",
            "30/30 [==============================] - 2s 60ms/step - loss: 0.0354 - binary_accuracy: 0.9927 - val_loss: 0.4401 - val_binary_accuracy: 0.8762\n",
            "Epoch 13/20\n",
            "30/30 [==============================] - 2s 57ms/step - loss: 0.0247 - binary_accuracy: 0.9964 - val_loss: 0.4720 - val_binary_accuracy: 0.8754\n",
            "Epoch 14/20\n",
            "30/30 [==============================] - 1s 50ms/step - loss: 0.0210 - binary_accuracy: 0.9971 - val_loss: 0.5248 - val_binary_accuracy: 0.8682\n",
            "Epoch 15/20\n",
            "30/30 [==============================] - 2s 62ms/step - loss: 0.0155 - binary_accuracy: 0.9981 - val_loss: 0.5421 - val_binary_accuracy: 0.8698\n",
            "Epoch 16/20\n",
            "30/30 [==============================] - 2s 60ms/step - loss: 0.0145 - binary_accuracy: 0.9974 - val_loss: 0.5765 - val_binary_accuracy: 0.8697\n",
            "Epoch 17/20\n",
            "30/30 [==============================] - 2s 84ms/step - loss: 0.0118 - binary_accuracy: 0.9975 - val_loss: 0.6093 - val_binary_accuracy: 0.8696\n",
            "Epoch 18/20\n",
            "30/30 [==============================] - 2s 81ms/step - loss: 0.0055 - binary_accuracy: 0.9998 - val_loss: 0.6411 - val_binary_accuracy: 0.8681\n",
            "Epoch 19/20\n",
            "30/30 [==============================] - 2s 74ms/step - loss: 0.0069 - binary_accuracy: 0.9991 - val_loss: 0.6705 - val_binary_accuracy: 0.8681\n",
            "Epoch 20/20\n",
            "30/30 [==============================] - 2s 51ms/step - loss: 0.0069 - binary_accuracy: 0.9991 - val_loss: 0.7040 - val_binary_accuracy: 0.8670\n"
          ]
        }
      ]
    },
    {
      "cell_type": "code",
      "source": [
        "history_dict = history.history\n",
        "history_dict.keys()"
      ],
      "metadata": {
        "colab": {
          "base_uri": "https://localhost:8080/"
        },
        "id": "fcb4MRAD4uMA",
        "outputId": "bdfc0746-4839-4b1d-da78-4319ec4b8e28"
      },
      "execution_count": 12,
      "outputs": [
        {
          "output_type": "execute_result",
          "data": {
            "text/plain": [
              "dict_keys(['loss', 'binary_accuracy', 'val_loss', 'val_binary_accuracy'])"
            ]
          },
          "metadata": {},
          "execution_count": 12
        }
      ]
    },
    {
      "cell_type": "code",
      "source": [
        "import matplotlib.pyplot as plt\n",
        "%matplotlib inline"
      ],
      "metadata": {
        "id": "mrSkXBhv40Pp"
      },
      "execution_count": 13,
      "outputs": []
    },
    {
      "cell_type": "code",
      "source": [
        "# Plotting losses\n",
        "loss_values = history_dict['loss']\n",
        "val_loss_values = history_dict['val_loss']\n",
        "\n",
        "epochs = range(1, len(loss_values) + 1)\n",
        "\n",
        "plt.plot(epochs, loss_values, 'bo', label=\"Training Loss\")\n",
        "plt.plot(epochs, val_loss_values, 'b', label=\"Validation Loss\")\n",
        "\n",
        "plt.title('Training and Validation Loss')\n",
        "plt.xlabel('Epochs')\n",
        "plt.ylabel('Loss Value')\n",
        "plt.legend()\n",
        "\n",
        "plt.show()"
      ],
      "metadata": {
        "colab": {
          "base_uri": "https://localhost:8080/",
          "height": 472
        },
        "id": "dszRyW7i45gt",
        "outputId": "d8782035-96e2-4a45-dbba-1777dd954bda"
      },
      "execution_count": 14,
      "outputs": [
        {
          "output_type": "display_data",
          "data": {
            "text/plain": [
              "<Figure size 640x480 with 1 Axes>"
            ],
            "image/png": "[encoded data removed]"
          },
          "metadata": {}
        }
      ]
    },
    {
      "cell_type": "code",
      "source": [
        "# Training and Validation Accuracy\n",
        "\n",
        "acc_values = history_dict['binary_accuracy']\n",
        "val_acc_values = history_dict['val_binary_accuracy']\n",
        "\n",
        "epochs = range(1, len(loss_values) + 1)\n",
        "\n",
        "plt.plot(epochs, acc_values, 'ro', label=\"Training Accuracy\")\n",
        "plt.plot(epochs, val_acc_values, 'r', label=\"Validation Accuracy\")\n",
        "\n",
        "plt.title('Training and Validation Accuraccy')\n",
        "plt.xlabel('Epochs')\n",
        "plt.ylabel('Accuracy')\n",
        "plt.legend()\n",
        "\n",
        "plt.show()"
      ],
      "metadata": {
        "colab": {
          "base_uri": "https://localhost:8080/",
          "height": 472
        },
        "id": "chxMGOyL4-Fd",
        "outputId": "b75a72e8-9036-4f3d-e549-def742d13640"
      },
      "execution_count": 15,
      "outputs": [
        {
          "output_type": "display_data",
          "data": {
            "text/plain": [
              "<Figure size 640x480 with 1 Axes>"
            ],
            "image/png": "[encoded data removed]"
          },
          "metadata": {}
        }
      ]
    },
    {
      "cell_type": "markdown",
      "source": [
        "Retaining our model"
      ],
      "metadata": {
        "id": "jefW_9c85H7e"
      }
    },
    {
      "cell_type": "code",
      "source": [
        "model.fit(partial_X_train,\n",
        "                   partial_y_train,\n",
        "                   epochs=3,\n",
        "                   batch_size=512,\n",
        "                   validation_data=(X_val, y_val))"
      ],
      "metadata": {
        "colab": {
          "base_uri": "https://localhost:8080/"
        },
        "id": "E0XZS__95Gzg",
        "outputId": "f4ec4675-96da-4215-c9cd-3892c4ff8041"
      },
      "execution_count": 16,
      "outputs": [
        {
          "output_type": "stream",
          "name": "stdout",
          "text": [
            "Epoch 1/3\n",
            "30/30 [==============================] - 3s 89ms/step - loss: 0.0026 - binary_accuracy: 0.9999 - val_loss: 0.7295 - val_binary_accuracy: 0.8663\n",
            "Epoch 2/3\n",
            "30/30 [==============================] - 2s 53ms/step - loss: 0.0077 - binary_accuracy: 0.9980 - val_loss: 0.7661 - val_binary_accuracy: 0.8667\n",
            "Epoch 3/3\n",
            "30/30 [==============================] - 2s 77ms/step - loss: 0.0016 - binary_accuracy: 0.9999 - val_loss: 0.7894 - val_binary_accuracy: 0.8661\n"
          ]
        },
        {
          "output_type": "execute_result",
          "data": {
            "text/plain": [
              "<keras.callbacks.History at 0x7f647050e9e0>"
            ]
          },
          "metadata": {},
          "execution_count": 16
        }
      ]
    },
    {
      "cell_type": "markdown",
      "source": [
        "Model evaluation"
      ],
      "metadata": {
        "id": "Czrf075Y5NtU"
      }
    },
    {
      "cell_type": "code",
      "source": [
        "# Making Predictions for testing data\n",
        "np.set_printoptions(suppress=True)\n",
        "result = model.predict(X_test)\n",
        "result\n"
      ],
      "metadata": {
        "colab": {
          "base_uri": "https://localhost:8080/"
        },
        "id": "MxOXmZ5x5RJz",
        "outputId": "3d41eebe-422f-4eb6-9302-133d97ef765f"
      },
      "execution_count": 17,
      "outputs": [
        {
          "output_type": "stream",
          "name": "stdout",
          "text": [
            "782/782 [==============================] - 3s 4ms/step\n"
          ]
        },
        {
          "output_type": "execute_result",
          "data": {
            "text/plain": [
              "array([[0.00161458],\n",
              "       [0.9999996 ],\n",
              "       [0.9366072 ],\n",
              "       ...,\n",
              "       [0.00029762],\n",
              "       [0.00118746],\n",
              "       [0.4800642 ]], dtype=float32)"
            ]
          },
          "metadata": {},
          "execution_count": 17
        }
      ]
    },
    {
      "cell_type": "code",
      "source": [
        "y_pred = np.zeros(len(result))\n",
        "for i, score in enumerate(result):\n",
        "    y_pred[i] = 1 if score > 0.5 else 0"
      ],
      "metadata": {
        "id": "65SRjw6m5dDb"
      },
      "execution_count": 18,
      "outputs": []
    },
    {
      "cell_type": "code",
      "source": [
        "from sklearn.metrics import mean_absolute_error\n",
        "mae = mean_absolute_error(y_pred, y_test)"
      ],
      "metadata": {
        "id": "04oAK68Y5qDY"
      },
      "execution_count": 19,
      "outputs": []
    },
    {
      "cell_type": "code",
      "source": [
        "# Error\n",
        "mae"
      ],
      "metadata": {
        "colab": {
          "base_uri": "https://localhost:8080/"
        },
        "id": "yQBJkkL05xps",
        "outputId": "14806240-5022-45d1-b4ab-073ebfd316db"
      },
      "execution_count": 20,
      "outputs": [
        {
          "output_type": "execute_result",
          "data": {
            "text/plain": [
              "0.15104"
            ]
          },
          "metadata": {},
          "execution_count": 20
        }
      ]
    }
  ]
}